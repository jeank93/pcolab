{
  "nbformat": 4,
  "nbformat_minor": 0,
  "metadata": {
    "colab": {
      "name": "proxycolab.ipynb",
      "provenance": [],
      "collapsed_sections": []
    },
    "kernelspec": {
      "name": "python3",
      "display_name": "Python 3"
    }
  },
  "cells": [
    {
      "cell_type": "code",
      "metadata": {
        "id": "HsfwNK5mJcfj",
        "colab_type": "code",
        "colab": {}
      },
      "source": [
        "#@title Remocolab Proxy {display-mode: \"form\"}\n",
        "!pip -q install git+https://github.com/namangoy/proxycolab.git\n",
        "import remocolab\n",
        "\n",
        "#@markdown 1. Create a free [ngrok account](https://dashboard.ngrok.com/signup). No email address verification is required.\n",
        "#@markdown 2. Go to the [Auth](https://dashboard.ngrok.com/auth) page and copy your authtoken and insert it in the cell below:\n",
        "token = \"\" #@param {type: \"string\"}\n",
        "\n",
        "#@markdown 3. Select your closest ngrok region (the proxy server will have a different region) and proxy protocol:\n",
        "region = \"eu - Europe (Frankfurt)\" #@param [\"us - United States (Ohio)\", \"eu - Europe (Frankfurt)\", \"ap - Asia/Pacific (Singapore)\", \"au - Australia (Sydney)\", \"sa - South America (Sao Paulo)\", \"jp - Japan (Tokyo)\", \"in - India (Mumbai)\"]\n",
        "protocol = \"SOCKS5\" #@param [\"HTTP\", \"SOCKS5\"]\n",
        "\n",
        "#@markdown 4. Click the **Run cell** button in the top left.\n",
        "\n",
        "#@markdown It should take about a minute for everything to start. Once the proxy server starts, copy the details to SwitchyOmega!<br>\n",
        "\n",
        "#@markdown <small>You need to keep the Colaboratory tab open while using the proxy server. To destroy the server and start fresh, go to **Runtime** → **Factory reset runtime**.</small>\n",
        "\n",
        "\n",
        "remocolab.setupProxy(token, region, protocol)\n"
      ],
      "execution_count": 0,
      "outputs": []
    }
  ]
}
